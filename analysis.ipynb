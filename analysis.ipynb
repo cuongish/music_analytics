{
 "cells": [
  {
   "cell_type": "code",
   "execution_count": 16,
   "id": "88c881d6",
   "metadata": {},
   "outputs": [
    {
     "name": "stdout",
     "output_type": "stream",
     "text": [
      "521974\n",
      "1125\n"
     ]
    }
   ],
   "source": [
    "import pandas as pd\n",
    "import sqlite3\n",
    "\n",
    "# Read sqlite query results into a pandas DataFrame\n",
    "con = sqlite3.connect(\"SQLite.db\")\n",
    "consumptions = pd.read_sql_query(\"SELECT * from consumptions\", con)\n",
    "mapping = pd.read_sql_query(\"SELECT * from feed_station_mapping\", con)\n",
    "\n",
    "# Validate that you have 521974 records in the consumptions dataset, \n",
    "# and 1125 records in the feed_station_mapping dataset.\n",
    "print(len(consumptions.index))\n",
    "print(len(mapping.index))"
   ]
  },
  {
   "cell_type": "code",
   "execution_count": 46,
   "id": "9702c7ab",
   "metadata": {},
   "outputs": [
    {
     "name": "stdout",
     "output_type": "stream",
     "text": [
      "   unique_stations\n",
      "0             1122\n"
     ]
    }
   ],
   "source": [
    "# - How many unique stations are there in the data set?\n",
    "\n",
    "df1 = pd.read_sql_query(\"\"\"select count(distinct f.station_id) as unique_stations\n",
    "                       from consumptions c \n",
    "                       left join feed_station_mapping f on f.feed_id = c.feed_id;\"\"\", \n",
    "                       con)\n",
    "print(df1)"
   ]
  },
  {
   "cell_type": "code",
   "execution_count": 44,
   "id": "dc5c76a6",
   "metadata": {
    "pycharm": {
     "name": "#%%\n"
    }
   },
   "outputs": [
    {
     "name": "stdout",
     "output_type": "stream",
     "text": [
      "   unique_artists\n",
      "0               8\n"
     ]
    }
   ],
   "source": [
    "#- How many unique artists are there in the data set?\n",
    "\n",
    "df2 = pd.read_sql_query(\"\"\"select count(distinct c.artist) as unique_artists\n",
    "                        from consumptions c;\"\"\", \n",
    "                       con)\n",
    "print(df2)"
   ]
  },
  {
   "cell_type": "code",
   "execution_count": 43,
   "id": "4cce8e89",
   "metadata": {
    "pycharm": {
     "name": "#%%\n"
    }
   },
   "outputs": [
    {
     "name": "stdout",
     "output_type": "stream",
     "text": [
      "   unique_tracks\n",
      "0              8\n"
     ]
    }
   ],
   "source": [
    "#- How many unique tracks are there in the data set?\n",
    "df3 = pd.read_sql_query(\"\"\"select \n",
    "                            count(distinct (artist || ' - ' || track)) as unique_tracks\n",
    "                            from consumptions;\"\"\", \n",
    "                       con)\n",
    "print(df3)"
   ]
  },
  {
   "cell_type": "code",
   "execution_count": 47,
   "id": "bce9c07e",
   "metadata": {
    "pycharm": {
     "name": "#%%\n"
    }
   },
   "outputs": [
    {
     "name": "stdout",
     "output_type": "stream",
     "text": [
      "      artist  consumption_events\n",
      "0  artist_03              180794\n",
      "1  artist_07              172805\n",
      "2  artist_02               44145\n"
     ]
    }
   ],
   "source": [
    "#- Who are the top 3 artists based number of consumption events per artist?\n",
    "df4 = pd.read_sql_query(\"\"\"select artist, count(stamp) as consumption_events\n",
    "                        from consumptions\n",
    "                        group by artist\n",
    "                        order by count(stamp) desc\n",
    "                        limit 3;\"\"\",\n",
    "                        con)\n",
    "\n",
    "print(df4)"
   ]
  },
  {
   "cell_type": "code",
   "execution_count": 54,
   "id": "ff81047d",
   "metadata": {
    "pycharm": {
     "name": "#%%\n"
    }
   },
   "outputs": [
    {
     "name": "stdout",
     "output_type": "stream",
     "text": [
      "         unique_tracks  consumption_events\n",
      "0  artist_03 - Song_05              180794\n",
      "1  artist_07 - Song_04              172805\n",
      "2  artist_02 - Song_01               44145\n"
     ]
    }
   ],
   "source": [
    "#- Which are the top 3 tracks?\n",
    "df5 = pd.read_sql_query(\"\"\"\n",
    "select (artist || ' - ' || track) as unique_tracks, \n",
    "       count(stamp) as consumption_events\n",
    "from consumptions\n",
    "group by track\n",
    "order by count(stamp) desc\n",
    "limit 3;\"\"\",con)\n",
    "print(df5)"
   ]
  },
  {
   "cell_type": "code",
   "execution_count": 57,
   "id": "c1e93823",
   "metadata": {},
   "outputs": [],
   "source": [
    "# REPORT\n",
    "\n",
    "con.execute(\"\"\"\n",
    "CREATE TABLE mart(\n",
    "    stamp timestamp,\n",
    "    concat_track varchar,\n",
    "    track varchar,\n",
    "    artist varchar,\n",
    "    feed_id varchar,\n",
    "    feed_name varchar,\n",
    "    fsm.station_id varchar,\n",
    "   PRIMARY KEY (stamp),\n",
    "   FOREIGN KEY (stamp, feed_id)\n",
    "      REFERENCES consumptions (stamp)\n",
    "         ON DELETE CASCADE \n",
    "         ON UPDATE NO ACTION,\n",
    "   FOREIGN KEY (feed_id)\n",
    "      REFERENCES groups (feed_station_mapping)\n",
    "         ON DELETE CASCADE \n",
    "         ON UPDATE NO ACTION\n",
    ");\"\"\")\n",
    "\n",
    "con.execute(\"\"\"\n",
    "INSERT INTO mart select c.stamp,\n",
    "                        c.track,\n",
    "                        c.artist,\n",
    "                        c.feed_id,\n",
    "                        c.feed_name,\n",
    "                        fsm.station_id\n",
    "                 from consumptions c\n",
    "                 left join feed_station_mapping fsm on c.feed_id = fsm.feed_id\n",
    ");\"\"\")\n",
    "\n"
   ]
  },
  {
   "cell_type": "code",
   "execution_count": 49,
   "id": "c227f8ab",
   "metadata": {
    "pycharm": {
     "name": "#%%\n"
    }
   },
   "outputs": [
    {
     "name": "stdout",
     "output_type": "stream",
     "text": [
      "          feed_id    track  listens  rank_id\n",
      "0      feed_id_01  Song_05      127        1\n",
      "1      feed_id_02  Song_01       68        1\n",
      "2      feed_id_02  Song_04       32        2\n",
      "3      feed_id_03  Song_05      201        1\n",
      "4      feed_id_03  Song_04        5        2\n",
      "...           ...      ...      ...      ...\n",
      "2416  feed_id_996  Song_04        4        2\n",
      "2417  feed_id_997  Song_07      612        1\n",
      "2418  feed_id_998  Song_04      779        1\n",
      "2419  feed_id_998  Song_05      117        2\n",
      "2420  feed_id_999  Song_04        2        1\n",
      "\n",
      "[2421 rows x 4 columns]\n"
     ]
    }
   ],
   "source": [
    "# Top 2 track per feed\n",
    "\n",
    "df6 = pd.read_sql_query(\"\"\"\n",
    "select feed_id,\n",
    "       track,\n",
    "       listens,\n",
    "       rank_id\n",
    "from (select distinct feed_id,\n",
    "       track,\n",
    "       listens,\n",
    "       rank() OVER (PARTITION BY feed_id ORDER BY listens DESC) as rank_id\n",
    "       from (select distinct a.feed_id,\n",
    "                             a.track,\n",
    "                             count(stamp) OVER (PARTITION BY feed_id, track) as listens\n",
    "             from (select c.*, fsm.station_id\n",
    "                   from consumptions c\n",
    "                   left join feed_station_mapping fsm on c.feed_id = fsm.feed_id) as a\n",
    "        ) as b\n",
    "group by feed_id, track\n",
    "order by feed_id)\n",
    "where rank_id <3;\"\"\",con)\n",
    "\n",
    "print(df6)"
   ]
  },
  {
   "cell_type": "code",
   "execution_count": 32,
   "id": "89a3da99",
   "metadata": {
    "pycharm": {
     "name": "#%%\n"
    }
   },
   "outputs": [
    {
     "name": "stdout",
     "output_type": "stream",
     "text": [
      "                station_id     artist    track  listens\n",
      "0      smp_station_name_01  artist_06  Song_03       18\n",
      "1      smp_station_name_01  artist_02  Song_01       16\n",
      "2      smp_station_name_01  artist_01  Song_08        1\n",
      "3      smp_station_name_01  artist_04  Song_07        1\n",
      "4      smp_station_name_01  artist_07  Song_04        1\n",
      "...                    ...        ...      ...      ...\n",
      "2383  smp_station_name_997  artist_07  Song_04       34\n",
      "2384  smp_station_name_997  artist_03  Song_05       24\n",
      "2385  smp_station_name_998  artist_08  Song_02        8\n",
      "2386  smp_station_name_999  artist_02  Song_01       52\n",
      "2387  smp_station_name_999  artist_07  Song_04       50\n",
      "\n",
      "[2388 rows x 4 columns]\n"
     ]
    }
   ],
   "source": [
    "# how much track is played per station\n",
    "df8 = pd.read_sql_query(\"\"\"\n",
    "select distinct a.station_id,\n",
    "                      a.artist,\n",
    "       a.track,\n",
    "       count(stamp) OVER (PARTITION BY station_id, artist, track) as listens\n",
    "from (select c.*, fsm.station_id\n",
    "      from consumptions c\n",
    "      left join feed_station_mapping fsm on c.feed_id = fsm.feed_id) as a\n",
    "      where station_id is not null\n",
    "order by station_id asc, listens desc;\"\"\",con)\n",
    "print(df8)"
   ]
  },
  {
   "cell_type": "code",
   "execution_count": null,
   "id": "4fddc53f",
   "metadata": {},
   "outputs": [],
   "source": []
  },
  {
   "cell_type": "code",
   "execution_count": 51,
   "id": "6a8e4426",
   "metadata": {
    "pycharm": {
     "name": "#%%\n"
    }
   },
   "outputs": [
    {
     "name": "stdout",
     "output_type": "stream",
     "text": [
      "                station_id         concat_track  listens  rank_id\n",
      "0      smp_station_name_01  artist_06 - Song_03       18        1\n",
      "1      smp_station_name_01  artist_02 - Song_01       16        2\n",
      "2      smp_station_name_02  artist_07 - Song_04       71        1\n",
      "3      smp_station_name_03  artist_07 - Song_04       31        1\n",
      "4      smp_station_name_04  artist_03 - Song_05      868        1\n",
      "...                    ...                  ...      ...      ...\n",
      "1816  smp_station_name_997  artist_02 - Song_01       73        1\n",
      "1817  smp_station_name_997  artist_07 - Song_04       34        2\n",
      "1818  smp_station_name_998  artist_08 - Song_02        8        1\n",
      "1819  smp_station_name_999  artist_02 - Song_01       52        1\n",
      "1820  smp_station_name_999  artist_07 - Song_04       50        2\n",
      "\n",
      "[1821 rows x 4 columns]\n"
     ]
    }
   ],
   "source": [
    "#BONUS top 2 track per station id\n",
    "df7 = pd.read_sql_query(\"\"\"\n",
    "select station_id,\n",
    "       artist || ' - ' || track as concat_track,\n",
    "       listens,\n",
    "       rank_id\n",
    "from (select distinct station_id,\n",
    "                      artist,\n",
    "       track,\n",
    "       listens,\n",
    "       rank() OVER (PARTITION BY station_id ORDER BY listens DESC) as rank_id\n",
    "from (select distinct a.station_id,\n",
    "                      a.artist,\n",
    "       a.track,\n",
    "       count(stamp) OVER (PARTITION BY station_id, artist, track) as listens\n",
    "        from (select c.*, fsm.station_id\n",
    "                from consumptions c\n",
    "                left join feed_station_mapping fsm on c.feed_id = fsm.feed_id) as a\n",
    "        where station_id is not null\n",
    ") as b\n",
    "group by station_id, artist, track\n",
    "order by station_id) c\n",
    "where rank_id <3;\"\"\", con)\n",
    "print(df7)"
   ]
  },
  {
   "cell_type": "code",
   "execution_count": null,
   "id": "270fb52e",
   "metadata": {},
   "outputs": [],
   "source": []
  }
 ],
 "metadata": {
  "kernelspec": {
   "display_name": "Python 3 (ipykernel)",
   "language": "python",
   "name": "python3"
  },
  "language_info": {
   "codemirror_mode": {
    "name": "ipython",
    "version": 3
   },
   "file_extension": ".py",
   "mimetype": "text/x-python",
   "name": "python",
   "nbconvert_exporter": "python",
   "pygments_lexer": "ipython3",
   "version": "3.8.10"
  }
 },
 "nbformat": 4,
 "nbformat_minor": 5
}